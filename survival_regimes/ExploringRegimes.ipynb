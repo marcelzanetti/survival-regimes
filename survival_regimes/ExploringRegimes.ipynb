{
 "cells": [
  {
   "cell_type": "code",
   "execution_count": 1,
   "metadata": {},
   "outputs": [],
   "source": [
    "import pandas as pd\n",
    "\n",
    "from lifelines.datasets import load_dd"
   ]
  },
  {
   "cell_type": "markdown",
   "metadata": {},
   "source": [
    "# Tratamento da base"
   ]
  },
  {
   "cell_type": "code",
   "execution_count": 2,
   "metadata": {},
   "outputs": [],
   "source": [
    "regime_df = load_dd()"
   ]
  },
  {
   "cell_type": "code",
   "execution_count": 3,
   "metadata": {},
   "outputs": [],
   "source": [
    "cols_to_drop = [\"politycode\", \"cowcode2\", \"leaderspellreg\"]\n",
    "\n",
    "cols_to_rename = {\n",
    "    \"ctryname\" : \"country_name\",\n",
    "    \"un_region_name\" : \"country_region\",\n",
    "    \"un_continent_name\" : \"country_continent\",\n",
    "    \"ehead\" : \"gov_leader\",\n",
    "    \"democracy\" : \"regime_is_democracy\",\n",
    "    \"regime\" : \"regime_type\",\n",
    "    \"start_year\" : \"gov_start\",\n",
    "    \"duration\" : \"gov_duration\",\n",
    "    \"observed\" : \"gov_observed_regular_end\"\n",
    "}\n",
    "\n",
    "regime_df = (\n",
    "    regime_df\n",
    "    .drop(cols_to_drop, axis=1)\n",
    "    .rename(cols_to_rename, axis=1)\n",
    ")"
   ]
  },
  {
   "cell_type": "code",
   "execution_count": 4,
   "metadata": {},
   "outputs": [
    {
     "data": {
      "text/html": [
       "<div>\n",
       "<style scoped>\n",
       "    .dataframe tbody tr th:only-of-type {\n",
       "        vertical-align: middle;\n",
       "    }\n",
       "\n",
       "    .dataframe tbody tr th {\n",
       "        vertical-align: top;\n",
       "    }\n",
       "\n",
       "    .dataframe thead th {\n",
       "        text-align: right;\n",
       "    }\n",
       "</style>\n",
       "<table border=\"1\" class=\"dataframe\">\n",
       "  <thead>\n",
       "    <tr style=\"text-align: right;\">\n",
       "      <th></th>\n",
       "      <th>country_name</th>\n",
       "      <th>country_region</th>\n",
       "      <th>country_continent</th>\n",
       "      <th>gov_leader</th>\n",
       "      <th>regime_is_democracy</th>\n",
       "      <th>regime_type</th>\n",
       "      <th>gov_start</th>\n",
       "      <th>gov_duration</th>\n",
       "      <th>gov_observed_regular_end</th>\n",
       "    </tr>\n",
       "  </thead>\n",
       "  <tbody>\n",
       "    <tr>\n",
       "      <th>0</th>\n",
       "      <td>Afghanistan</td>\n",
       "      <td>Southern Asia</td>\n",
       "      <td>Asia</td>\n",
       "      <td>Mohammad Zahir Shah</td>\n",
       "      <td>Non-democracy</td>\n",
       "      <td>Monarchy</td>\n",
       "      <td>1946</td>\n",
       "      <td>7</td>\n",
       "      <td>1</td>\n",
       "    </tr>\n",
       "    <tr>\n",
       "      <th>1</th>\n",
       "      <td>Afghanistan</td>\n",
       "      <td>Southern Asia</td>\n",
       "      <td>Asia</td>\n",
       "      <td>Sardar Mohammad Daoud</td>\n",
       "      <td>Non-democracy</td>\n",
       "      <td>Civilian Dict</td>\n",
       "      <td>1953</td>\n",
       "      <td>10</td>\n",
       "      <td>1</td>\n",
       "    </tr>\n",
       "    <tr>\n",
       "      <th>2</th>\n",
       "      <td>Afghanistan</td>\n",
       "      <td>Southern Asia</td>\n",
       "      <td>Asia</td>\n",
       "      <td>Mohammad Zahir Shah</td>\n",
       "      <td>Non-democracy</td>\n",
       "      <td>Monarchy</td>\n",
       "      <td>1963</td>\n",
       "      <td>10</td>\n",
       "      <td>1</td>\n",
       "    </tr>\n",
       "    <tr>\n",
       "      <th>3</th>\n",
       "      <td>Afghanistan</td>\n",
       "      <td>Southern Asia</td>\n",
       "      <td>Asia</td>\n",
       "      <td>Sardar Mohammad Daoud</td>\n",
       "      <td>Non-democracy</td>\n",
       "      <td>Civilian Dict</td>\n",
       "      <td>1973</td>\n",
       "      <td>5</td>\n",
       "      <td>0</td>\n",
       "    </tr>\n",
       "    <tr>\n",
       "      <th>4</th>\n",
       "      <td>Afghanistan</td>\n",
       "      <td>Southern Asia</td>\n",
       "      <td>Asia</td>\n",
       "      <td>Nur Mohammad Taraki</td>\n",
       "      <td>Non-democracy</td>\n",
       "      <td>Civilian Dict</td>\n",
       "      <td>1978</td>\n",
       "      <td>1</td>\n",
       "      <td>0</td>\n",
       "    </tr>\n",
       "  </tbody>\n",
       "</table>\n",
       "</div>"
      ],
      "text/plain": [
       "  country_name country_region country_continent             gov_leader  \\\n",
       "0  Afghanistan  Southern Asia              Asia    Mohammad Zahir Shah   \n",
       "1  Afghanistan  Southern Asia              Asia  Sardar Mohammad Daoud   \n",
       "2  Afghanistan  Southern Asia              Asia    Mohammad Zahir Shah   \n",
       "3  Afghanistan  Southern Asia              Asia  Sardar Mohammad Daoud   \n",
       "4  Afghanistan  Southern Asia              Asia    Nur Mohammad Taraki   \n",
       "\n",
       "  regime_is_democracy    regime_type  gov_start  gov_duration  \\\n",
       "0       Non-democracy       Monarchy       1946             7   \n",
       "1       Non-democracy  Civilian Dict       1953            10   \n",
       "2       Non-democracy       Monarchy       1963            10   \n",
       "3       Non-democracy  Civilian Dict       1973             5   \n",
       "4       Non-democracy  Civilian Dict       1978             1   \n",
       "\n",
       "   gov_observed_regular_end  \n",
       "0                         1  \n",
       "1                         1  \n",
       "2                         1  \n",
       "3                         0  \n",
       "4                         0  "
      ]
     },
     "execution_count": 4,
     "metadata": {},
     "output_type": "execute_result"
    }
   ],
   "source": [
    "regime_df.head(5)"
   ]
  },
  {
   "cell_type": "code",
   "execution_count": 5,
   "metadata": {},
   "outputs": [],
   "source": [
    "regime_df[\"gov_observed_regular_end\"] = regime_df[\"gov_observed_regular_end\"].astype(bool)\n",
    "regime_df[\"regime_is_democracy\"] = (regime_df[\"regime_is_democracy\"] == \"Democracy\")"
   ]
  },
  {
   "cell_type": "markdown",
   "metadata": {},
   "source": [
    "A data máxima é 2009. Os que têm data de término aí e não tenham `gov_observed_regular_end` terão *False* em `gov_observed_death`); os demais, o contrário."
   ]
  },
  {
   "cell_type": "code",
   "execution_count": 6,
   "metadata": {},
   "outputs": [],
   "source": [
    "regime_df[\"gov_observed_death\"] = ~((regime_df[\"gov_start\"] + regime_df[\"gov_duration\"] == 2009) & (~regime_df[\"gov_observed_regular_end\"]))"
   ]
  },
  {
   "cell_type": "code",
   "execution_count": 8,
   "metadata": {},
   "outputs": [
    {
     "data": {
      "text/plain": [
       "country_name                object\n",
       "country_region              object\n",
       "country_continent           object\n",
       "gov_leader                  object\n",
       "regime_is_democracy           bool\n",
       "regime_type                 object\n",
       "gov_start                    int64\n",
       "gov_duration                 int64\n",
       "gov_observed_regular_end      bool\n",
       "gov_observed_death            bool\n",
       "dtype: object"
      ]
     },
     "execution_count": 8,
     "metadata": {},
     "output_type": "execute_result"
    }
   ],
   "source": [
    "regime_df.dtypes"
   ]
  },
  {
   "cell_type": "markdown",
   "metadata": {},
   "source": [
    "# Exploração da base"
   ]
  },
  {
   "cell_type": "markdown",
   "metadata": {},
   "source": [
    "## AutoEDA"
   ]
  },
  {
   "cell_type": "code",
   "execution_count": 14,
   "metadata": {},
   "outputs": [
    {
     "name": "stderr",
     "output_type": "stream",
     "text": [
      "/home/marcel/repos/survival-regimes/.venv/lib/python3.8/site-packages/tqdm/auto.py:22: TqdmWarning: IProgress not found. Please update jupyter and ipywidgets. See https://ipywidgets.readthedocs.io/en/stable/user_install.html\n",
      "  from .autonotebook import tqdm as notebook_tqdm\n"
     ]
    }
   ],
   "source": [
    "import pandas_profiling"
   ]
  },
  {
   "cell_type": "code",
   "execution_count": 13,
   "metadata": {},
   "outputs": [
    {
     "name": "stderr",
     "output_type": "stream",
     "text": [
      "Summarize dataset: 100%|██████████| 33/33 [00:07<00:00,  4.38it/s, Completed]                                \n",
      "Generate report structure: 100%|██████████| 1/1 [00:09<00:00,  9.34s/it]\n",
      "Render HTML: 100%|██████████| 1/1 [00:01<00:00,  1.39s/it]\n",
      "Export report to file: 100%|██████████| 1/1 [00:00<00:00, 197.70it/s]\n"
     ]
    }
   ],
   "source": [
    "report = pandas_profiling.ProfileReport(regime_df)\n",
    "report.to_file(\"../reports/raw_regimes.html\")"
   ]
  },
  {
   "cell_type": "markdown",
   "metadata": {},
   "source": [
    "## Tratamentos específicos"
   ]
  },
  {
   "cell_type": "markdown",
   "metadata": {},
   "source": [
    "#### `gov_leader`"
   ]
  },
  {
   "cell_type": "code",
   "execution_count": 6,
   "metadata": {},
   "outputs": [],
   "source": [
    "regime_df[\"gov_leader\"] = regime_df[\"gov_leader\"].str.upper()"
   ]
  },
  {
   "cell_type": "markdown",
   "metadata": {},
   "source": [
    "Criando uma variável `gov_id` para tratar dos governantes que aparecem mais de uma vez:"
   ]
  },
  {
   "cell_type": "code",
   "execution_count": 7,
   "metadata": {},
   "outputs": [],
   "source": [
    "regime_df[\"gov_id\"] = (\n",
    "    regime_df\n",
    "    .reset_index()\n",
    "    .groupby(\"gov_leader\")[\"gov_start\"]\n",
    "    .rank(method=\"min\", ascending=True)\n",
    ")"
   ]
  },
  {
   "cell_type": "code",
   "execution_count": 8,
   "metadata": {},
   "outputs": [],
   "source": [
    "def temp_assign_gov_id(x):\n",
    "    if x[\"gov_leader\"] != \"MILITARY\" and x[\"gov_id\"] > 1.0:\n",
    "        return f\"({int(x['gov_id'])}) {x['gov_leader']}\"\n",
    "    else:\n",
    "        return x[\"gov_leader\"]\n",
    "\n",
    "regime_df[\"gov_id\"] = regime_df.apply(temp_assign_gov_id, axis=1)"
   ]
  },
  {
   "cell_type": "markdown",
   "metadata": {},
   "source": [
    "#### Duplicatas"
   ]
  },
  {
   "cell_type": "code",
   "execution_count": 18,
   "metadata": {},
   "outputs": [
    {
     "data": {
      "text/html": [
       "<div>\n",
       "<style scoped>\n",
       "    .dataframe tbody tr th:only-of-type {\n",
       "        vertical-align: middle;\n",
       "    }\n",
       "\n",
       "    .dataframe tbody tr th {\n",
       "        vertical-align: top;\n",
       "    }\n",
       "\n",
       "    .dataframe thead th {\n",
       "        text-align: right;\n",
       "    }\n",
       "</style>\n",
       "<table border=\"1\" class=\"dataframe\">\n",
       "  <thead>\n",
       "    <tr style=\"text-align: right;\">\n",
       "      <th></th>\n",
       "      <th>country_name</th>\n",
       "      <th>country_region</th>\n",
       "      <th>country_continent</th>\n",
       "      <th>gov_leader</th>\n",
       "      <th>regime_is_democracy</th>\n",
       "      <th>regime_type</th>\n",
       "      <th>gov_start</th>\n",
       "      <th>gov_duration</th>\n",
       "      <th>gov_observed_regular_end</th>\n",
       "      <th>gov_observed_death</th>\n",
       "      <th>gov_id</th>\n",
       "    </tr>\n",
       "  </thead>\n",
       "  <tbody>\n",
       "    <tr>\n",
       "      <th>501</th>\n",
       "      <td>Ethiopia</td>\n",
       "      <td>Eastern Africa</td>\n",
       "      <td>Africa</td>\n",
       "      <td>HAILE SELASSIE</td>\n",
       "      <td>False</td>\n",
       "      <td>Monarchy</td>\n",
       "      <td>1946</td>\n",
       "      <td>28</td>\n",
       "      <td>True</td>\n",
       "      <td>True</td>\n",
       "      <td>HAILE SELASSIE</td>\n",
       "    </tr>\n",
       "    <tr>\n",
       "      <th>502</th>\n",
       "      <td>Ethiopia</td>\n",
       "      <td>Eastern Africa</td>\n",
       "      <td>Africa</td>\n",
       "      <td>TEFERI BENTI</td>\n",
       "      <td>False</td>\n",
       "      <td>Military Dict</td>\n",
       "      <td>1974</td>\n",
       "      <td>3</td>\n",
       "      <td>True</td>\n",
       "      <td>True</td>\n",
       "      <td>TEFERI BENTI</td>\n",
       "    </tr>\n",
       "    <tr>\n",
       "      <th>503</th>\n",
       "      <td>Ethiopia</td>\n",
       "      <td>Eastern Africa</td>\n",
       "      <td>Africa</td>\n",
       "      <td>MENGISTU HAILE MARIAM</td>\n",
       "      <td>False</td>\n",
       "      <td>Military Dict</td>\n",
       "      <td>1977</td>\n",
       "      <td>14</td>\n",
       "      <td>True</td>\n",
       "      <td>True</td>\n",
       "      <td>MENGISTU HAILE MARIAM</td>\n",
       "    </tr>\n",
       "    <tr>\n",
       "      <th>504</th>\n",
       "      <td>Ethiopia</td>\n",
       "      <td>Eastern Africa</td>\n",
       "      <td>Africa</td>\n",
       "      <td>MELES ZENAWI</td>\n",
       "      <td>False</td>\n",
       "      <td>Civilian Dict</td>\n",
       "      <td>1991</td>\n",
       "      <td>4</td>\n",
       "      <td>False</td>\n",
       "      <td>True</td>\n",
       "      <td>MELES ZENAWI</td>\n",
       "    </tr>\n",
       "    <tr>\n",
       "      <th>505</th>\n",
       "      <td>Ethiopia</td>\n",
       "      <td>Eastern Africa</td>\n",
       "      <td>Africa</td>\n",
       "      <td>MELES ZENAWI</td>\n",
       "      <td>False</td>\n",
       "      <td>Civilian Dict</td>\n",
       "      <td>1991</td>\n",
       "      <td>4</td>\n",
       "      <td>False</td>\n",
       "      <td>True</td>\n",
       "      <td>MELES ZENAWI</td>\n",
       "    </tr>\n",
       "    <tr>\n",
       "      <th>506</th>\n",
       "      <td>Ethiopia</td>\n",
       "      <td>Eastern Africa</td>\n",
       "      <td>Africa</td>\n",
       "      <td>NEGASSO GIDADA</td>\n",
       "      <td>False</td>\n",
       "      <td>Civilian Dict</td>\n",
       "      <td>1995</td>\n",
       "      <td>6</td>\n",
       "      <td>True</td>\n",
       "      <td>True</td>\n",
       "      <td>NEGASSO GIDADA</td>\n",
       "    </tr>\n",
       "    <tr>\n",
       "      <th>507</th>\n",
       "      <td>Ethiopia</td>\n",
       "      <td>Eastern Africa</td>\n",
       "      <td>Africa</td>\n",
       "      <td>GIRMA WOLDE-GIYORGIS LUCHA</td>\n",
       "      <td>False</td>\n",
       "      <td>Civilian Dict</td>\n",
       "      <td>2001</td>\n",
       "      <td>8</td>\n",
       "      <td>False</td>\n",
       "      <td>False</td>\n",
       "      <td>GIRMA WOLDE-GIYORGIS LUCHA</td>\n",
       "    </tr>\n",
       "  </tbody>\n",
       "</table>\n",
       "</div>"
      ],
      "text/plain": [
       "    country_name  country_region country_continent  \\\n",
       "501     Ethiopia  Eastern Africa            Africa   \n",
       "502     Ethiopia  Eastern Africa            Africa   \n",
       "503     Ethiopia  Eastern Africa            Africa   \n",
       "504     Ethiopia  Eastern Africa            Africa   \n",
       "505     Ethiopia  Eastern Africa            Africa   \n",
       "506     Ethiopia  Eastern Africa            Africa   \n",
       "507     Ethiopia  Eastern Africa            Africa   \n",
       "\n",
       "                     gov_leader  regime_is_democracy    regime_type  \\\n",
       "501              HAILE SELASSIE                False       Monarchy   \n",
       "502                TEFERI BENTI                False  Military Dict   \n",
       "503       MENGISTU HAILE MARIAM                False  Military Dict   \n",
       "504                MELES ZENAWI                False  Civilian Dict   \n",
       "505                MELES ZENAWI                False  Civilian Dict   \n",
       "506              NEGASSO GIDADA                False  Civilian Dict   \n",
       "507  GIRMA WOLDE-GIYORGIS LUCHA                False  Civilian Dict   \n",
       "\n",
       "     gov_start  gov_duration  gov_observed_regular_end  gov_observed_death  \\\n",
       "501       1946            28                      True                True   \n",
       "502       1974             3                      True                True   \n",
       "503       1977            14                      True                True   \n",
       "504       1991             4                     False                True   \n",
       "505       1991             4                     False                True   \n",
       "506       1995             6                      True                True   \n",
       "507       2001             8                     False               False   \n",
       "\n",
       "                         gov_id  \n",
       "501              HAILE SELASSIE  \n",
       "502                TEFERI BENTI  \n",
       "503       MENGISTU HAILE MARIAM  \n",
       "504                MELES ZENAWI  \n",
       "505                MELES ZENAWI  \n",
       "506              NEGASSO GIDADA  \n",
       "507  GIRMA WOLDE-GIYORGIS LUCHA  "
      ]
     },
     "execution_count": 18,
     "metadata": {},
     "output_type": "execute_result"
    }
   ],
   "source": [
    "regime_df[regime_df[\"country_name\"] == \"Ethiopia\"]"
   ]
  },
  {
   "cell_type": "code",
   "execution_count": 9,
   "metadata": {},
   "outputs": [],
   "source": [
    "regime_df = regime_df.drop_duplicates()"
   ]
  },
  {
   "cell_type": "markdown",
   "metadata": {},
   "source": [
    "# Curvas de sobrevivência"
   ]
  },
  {
   "cell_type": "code",
   "execution_count": 11,
   "metadata": {},
   "outputs": [],
   "source": [
    "from lifelines import KaplanMeierFitter "
   ]
  },
  {
   "cell_type": "markdown",
   "metadata": {},
   "source": [
    "#### Curva geral"
   ]
  },
  {
   "cell_type": "code",
   "execution_count": 12,
   "metadata": {},
   "outputs": [
    {
     "data": {
      "text/plain": [
       "<AxesSubplot:xlabel='timeline'>"
      ]
     },
     "execution_count": 12,
     "metadata": {},
     "output_type": "execute_result"
    },
    {
     "data": {
      "image/png": "[encoded data removed]",
      "text/plain": [
       "<Figure size 432x288 with 1 Axes>"
      ]
     },
     "metadata": {
      "needs_background": "light"
     },
     "output_type": "display_data"
    }
   ],
   "source": [
    "kmf = KaplanMeierFitter()\n",
    "kmf.fit(regime_df[\"gov_duration\"], regime_df[\"gov_observed_death\"])\n",
    "kmf.plot_survival_function()"
   ]
  },
  {
   "cell_type": "code",
   "execution_count": 13,
   "metadata": {},
   "outputs": [],
   "source": [
    "def plot_multiple_groups(group_col):\n",
    "\n",
    "    group_values = regime_df[group_col].unique()\n",
    "    kmf = KaplanMeierFitter()\n",
    "\n",
    "    for group in group_values:\n",
    "        df_ = regime_df[regime_df[group_col] == group]\n",
    "\n",
    "        kmf.fit(df_[\"gov_duration\"], df_[\"gov_observed_death\"], label=group)\n",
    "        kmf.plot_survival_function()"
   ]
  },
  {
   "cell_type": "markdown",
   "metadata": {},
   "source": [
    "#### Por tipo de regime"
   ]
  },
  {
   "cell_type": "code",
   "execution_count": 14,
   "metadata": {},
   "outputs": [
    {
     "data": {
      "image/png": "[encoded data removed]",
      "text/plain": [
       "<Figure size 432x288 with 1 Axes>"
      ]
     },
     "metadata": {
      "needs_background": "light"
     },
     "output_type": "display_data"
    }
   ],
   "source": [
    "plot_multiple_groups(\"country_continent\")"
   ]
  },
  {
   "cell_type": "markdown",
   "metadata": {},
   "source": [
    "#### Se há democracia"
   ]
  },
  {
   "cell_type": "code",
   "execution_count": 15,
   "metadata": {},
   "outputs": [
    {
     "data": {
      "image/png": "[encoded data removed]",
      "text/plain": [
       "<Figure size 432x288 with 1 Axes>"
      ]
     },
     "metadata": {
      "needs_background": "light"
     },
     "output_type": "display_data"
    }
   ],
   "source": [
    "plot_multiple_groups(\"regime_is_democracy\")"
   ]
  },
  {
   "cell_type": "markdown",
   "metadata": {},
   "source": [
    "#### Por tipo de regime"
   ]
  },
  {
   "cell_type": "code",
   "execution_count": 16,
   "metadata": {},
   "outputs": [
    {
     "data": {
      "image/png": "[encoded data removed]",
      "text/plain": [
       "<Figure size 432x288 with 1 Axes>"
      ]
     },
     "metadata": {
      "needs_background": "light"
     },
     "output_type": "display_data"
    }
   ],
   "source": [
    "plot_multiple_groups(\"regime_type\")"
   ]
  },
  {
   "cell_type": "code",
   "execution_count": 17,
   "metadata": {},
   "outputs": [
    {
     "data": {
      "image/png": "[encoded data removed]",
      "text/plain": [
       "<Figure size 432x288 with 1 Axes>"
      ]
     },
     "metadata": {
      "needs_background": "light"
     },
     "output_type": "display_data"
    }
   ],
   "source": [
    "plot_multiple_groups(\"country_region\")"
   ]
  },
  {
   "cell_type": "markdown",
   "metadata": {},
   "source": [
    "## Modelagem inicial"
   ]
  },
  {
   "cell_type": "code",
   "execution_count": 18,
   "metadata": {},
   "outputs": [],
   "source": [
    "from lifelines import CoxPHFitter"
   ]
  },
  {
   "cell_type": "code",
   "execution_count": 19,
   "metadata": {},
   "outputs": [],
   "source": [
    "from sklearn.model_selection import train_test_split"
   ]
  },
  {
   "cell_type": "markdown",
   "metadata": {},
   "source": [
    "#### Preparando os dados"
   ]
  },
  {
   "cell_type": "code",
   "execution_count": 20,
   "metadata": {},
   "outputs": [],
   "source": [
    "model_cols_to_use = [\n",
    "    \"country_region\", \"regime_type\", # features\n",
    "    \"gov_observed_death\", \"gov_duration\" # duration col and observed event col\n",
    "]"
   ]
  },
  {
   "cell_type": "code",
   "execution_count": 21,
   "metadata": {},
   "outputs": [],
   "source": [
    "model_df = pd.get_dummies(regime_df[model_cols_to_use], drop_first=True)"
   ]
  },
  {
   "cell_type": "markdown",
   "metadata": {},
   "source": [
    "Como vamos apenas rodar um modelo rápido (o desenvolvimento do modelo definitivo será em outro notebook, após considerar outras features), não gastaremos muito tempo aqui."
   ]
  },
  {
   "cell_type": "code",
   "execution_count": 22,
   "metadata": {},
   "outputs": [],
   "source": [
    "X_train, X_test = train_test_split(model_df)"
   ]
  },
  {
   "cell_type": "markdown",
   "metadata": {},
   "source": [
    "#### Ajustando o modelo"
   ]
  },
  {
   "cell_type": "code",
   "execution_count": 25,
   "metadata": {},
   "outputs": [
    {
     "data": {
      "text/plain": [
       "<lifelines.CoxPHFitter: fitted with 1355 total observations, 137 right-censored observations>"
      ]
     },
     "execution_count": 25,
     "metadata": {},
     "output_type": "execute_result"
    }
   ],
   "source": [
    "cph = CoxPHFitter()\n",
    "cph.fit(X_train, duration_col=\"gov_duration\", event_col=\"gov_observed_death\")"
   ]
  },
  {
   "cell_type": "code",
   "execution_count": 26,
   "metadata": {},
   "outputs": [
    {
     "data": {
      "text/plain": [
       "<AxesSubplot:xlabel='log(HR) (95% CI)'>"
      ]
     },
     "execution_count": 26,
     "metadata": {},
     "output_type": "execute_result"
    },
    {
     "data": {
      "image/png": "[encoded data removed]",
      "text/plain": [
       "<Figure size 432x288 with 1 Axes>"
      ]
     },
     "metadata": {
      "needs_background": "light"
     },
     "output_type": "display_data"
    }
   ],
   "source": [
    "cph.plot()"
   ]
  },
  {
   "cell_type": "code",
   "execution_count": 27,
   "metadata": {},
   "outputs": [
    {
     "name": "stderr",
     "output_type": "stream",
     "text": [
      "/home/marcel/repos/survival-regimes/.venv/lib/python3.8/site-packages/lifelines/utils/printer.py:62: FutureWarning: In future versions `DataFrame.to_latex` is expected to utilise the base implementation of `Styler.to_latex` for formatting and rendering. The arguments signature may therefore change. It is recommended instead to use `DataFrame.style.to_latex` which also contains additional functionality.\n",
      "  return summary_df[columns].to_latex(float_format=\"%.\" + str(self.decimals) + \"f\")\n"
     ]
    },
    {
     "data": {
      "text/html": [
       "<div>\n",
       "<style scoped>\n",
       "    .dataframe tbody tr th:only-of-type {\n",
       "        vertical-align: middle;\n",
       "    }\n",
       "\n",
       "    .dataframe tbody tr th {\n",
       "        vertical-align: top;\n",
       "    }\n",
       "\n",
       "    .dataframe thead th {\n",
       "        text-align: right;\n",
       "    }\n",
       "</style>\n",
       "<table border=\"1\" class=\"dataframe\">\n",
       "  <tbody>\n",
       "    <tr>\n",
       "      <th>model</th>\n",
       "      <td>lifelines.CoxPHFitter</td>\n",
       "    </tr>\n",
       "    <tr>\n",
       "      <th>duration col</th>\n",
       "      <td>'gov_duration'</td>\n",
       "    </tr>\n",
       "    <tr>\n",
       "      <th>event col</th>\n",
       "      <td>'gov_observed_death'</td>\n",
       "    </tr>\n",
       "    <tr>\n",
       "      <th>baseline estimation</th>\n",
       "      <td>breslow</td>\n",
       "    </tr>\n",
       "    <tr>\n",
       "      <th>number of observations</th>\n",
       "      <td>1355</td>\n",
       "    </tr>\n",
       "    <tr>\n",
       "      <th>number of events observed</th>\n",
       "      <td>1218</td>\n",
       "    </tr>\n",
       "    <tr>\n",
       "      <th>partial log-likelihood</th>\n",
       "      <td>-7486.30</td>\n",
       "    </tr>\n",
       "    <tr>\n",
       "      <th>time fit was run</th>\n",
       "      <td>2022-05-21 00:19:45 UTC</td>\n",
       "    </tr>\n",
       "  </tbody>\n",
       "</table>\n",
       "</div><table border=\"1\" class=\"dataframe\">\n",
       "  <thead>\n",
       "    <tr style=\"text-align: right;\">\n",
       "      <th style=\"min-width: 12px;\"></th>\n",
       "      <th style=\"min-width: 12px;\">coef</th>\n",
       "      <th style=\"min-width: 12px;\">exp(coef)</th>\n",
       "      <th style=\"min-width: 12px;\">se(coef)</th>\n",
       "      <th style=\"min-width: 12px;\">coef lower 95%</th>\n",
       "      <th style=\"min-width: 12px;\">coef upper 95%</th>\n",
       "      <th style=\"min-width: 12px;\">exp(coef) lower 95%</th>\n",
       "      <th style=\"min-width: 12px;\">exp(coef) upper 95%</th>\n",
       "      <th style=\"min-width: 12px;\">cmp to</th>\n",
       "      <th style=\"min-width: 12px;\">z</th>\n",
       "      <th style=\"min-width: 12px;\">p</th>\n",
       "      <th style=\"min-width: 12px;\">-log2(p)</th>\n",
       "    </tr>\n",
       "  </thead>\n",
       "  <tbody>\n",
       "    <tr>\n",
       "      <th>country_region_Caribbean</th>\n",
       "      <td>-0.14</td>\n",
       "      <td>0.87</td>\n",
       "      <td>0.28</td>\n",
       "      <td>-0.69</td>\n",
       "      <td>0.41</td>\n",
       "      <td>0.50</td>\n",
       "      <td>1.51</td>\n",
       "      <td>0.00</td>\n",
       "      <td>-0.50</td>\n",
       "      <td>0.62</td>\n",
       "      <td>0.70</td>\n",
       "    </tr>\n",
       "    <tr>\n",
       "      <th>country_region_Central America</th>\n",
       "      <td>0.48</td>\n",
       "      <td>1.62</td>\n",
       "      <td>0.28</td>\n",
       "      <td>-0.07</td>\n",
       "      <td>1.04</td>\n",
       "      <td>0.93</td>\n",
       "      <td>2.83</td>\n",
       "      <td>0.00</td>\n",
       "      <td>1.70</td>\n",
       "      <td>0.09</td>\n",
       "      <td>3.48</td>\n",
       "    </tr>\n",
       "    <tr>\n",
       "      <th>country_region_Central Asia</th>\n",
       "      <td>-0.41</td>\n",
       "      <td>0.66</td>\n",
       "      <td>0.56</td>\n",
       "      <td>-1.52</td>\n",
       "      <td>0.70</td>\n",
       "      <td>0.22</td>\n",
       "      <td>2.01</td>\n",
       "      <td>0.00</td>\n",
       "      <td>-0.72</td>\n",
       "      <td>0.47</td>\n",
       "      <td>1.09</td>\n",
       "    </tr>\n",
       "    <tr>\n",
       "      <th>country_region_Eastern Africa</th>\n",
       "      <td>0.05</td>\n",
       "      <td>1.05</td>\n",
       "      <td>0.29</td>\n",
       "      <td>-0.51</td>\n",
       "      <td>0.62</td>\n",
       "      <td>0.60</td>\n",
       "      <td>1.85</td>\n",
       "      <td>0.00</td>\n",
       "      <td>0.18</td>\n",
       "      <td>0.86</td>\n",
       "      <td>0.22</td>\n",
       "    </tr>\n",
       "    <tr>\n",
       "      <th>country_region_Eastern Asia</th>\n",
       "      <td>0.35</td>\n",
       "      <td>1.42</td>\n",
       "      <td>0.30</td>\n",
       "      <td>-0.23</td>\n",
       "      <td>0.93</td>\n",
       "      <td>0.80</td>\n",
       "      <td>2.54</td>\n",
       "      <td>0.00</td>\n",
       "      <td>1.20</td>\n",
       "      <td>0.23</td>\n",
       "      <td>2.11</td>\n",
       "    </tr>\n",
       "    <tr>\n",
       "      <th>country_region_Eastern Europe</th>\n",
       "      <td>0.45</td>\n",
       "      <td>1.57</td>\n",
       "      <td>0.28</td>\n",
       "      <td>-0.10</td>\n",
       "      <td>1.00</td>\n",
       "      <td>0.91</td>\n",
       "      <td>2.71</td>\n",
       "      <td>0.00</td>\n",
       "      <td>1.61</td>\n",
       "      <td>0.11</td>\n",
       "      <td>3.21</td>\n",
       "    </tr>\n",
       "    <tr>\n",
       "      <th>country_region_Melanesia</th>\n",
       "      <td>0.48</td>\n",
       "      <td>1.62</td>\n",
       "      <td>0.31</td>\n",
       "      <td>-0.12</td>\n",
       "      <td>1.09</td>\n",
       "      <td>0.89</td>\n",
       "      <td>2.97</td>\n",
       "      <td>0.00</td>\n",
       "      <td>1.56</td>\n",
       "      <td>0.12</td>\n",
       "      <td>3.09</td>\n",
       "    </tr>\n",
       "    <tr>\n",
       "      <th>country_region_Micronesia</th>\n",
       "      <td>0.14</td>\n",
       "      <td>1.15</td>\n",
       "      <td>0.32</td>\n",
       "      <td>-0.50</td>\n",
       "      <td>0.78</td>\n",
       "      <td>0.61</td>\n",
       "      <td>2.18</td>\n",
       "      <td>0.00</td>\n",
       "      <td>0.43</td>\n",
       "      <td>0.66</td>\n",
       "      <td>0.59</td>\n",
       "    </tr>\n",
       "    <tr>\n",
       "      <th>country_region_Middle Africa</th>\n",
       "      <td>0.19</td>\n",
       "      <td>1.21</td>\n",
       "      <td>0.31</td>\n",
       "      <td>-0.42</td>\n",
       "      <td>0.81</td>\n",
       "      <td>0.66</td>\n",
       "      <td>2.24</td>\n",
       "      <td>0.00</td>\n",
       "      <td>0.61</td>\n",
       "      <td>0.54</td>\n",
       "      <td>0.89</td>\n",
       "    </tr>\n",
       "    <tr>\n",
       "      <th>country_region_Northern Africa</th>\n",
       "      <td>-0.28</td>\n",
       "      <td>0.75</td>\n",
       "      <td>0.35</td>\n",
       "      <td>-0.97</td>\n",
       "      <td>0.41</td>\n",
       "      <td>0.38</td>\n",
       "      <td>1.50</td>\n",
       "      <td>0.00</td>\n",
       "      <td>-0.81</td>\n",
       "      <td>0.42</td>\n",
       "      <td>1.25</td>\n",
       "    </tr>\n",
       "    <tr>\n",
       "      <th>country_region_Northern America</th>\n",
       "      <td>-0.08</td>\n",
       "      <td>0.92</td>\n",
       "      <td>0.37</td>\n",
       "      <td>-0.79</td>\n",
       "      <td>0.64</td>\n",
       "      <td>0.45</td>\n",
       "      <td>1.89</td>\n",
       "      <td>0.00</td>\n",
       "      <td>-0.21</td>\n",
       "      <td>0.83</td>\n",
       "      <td>0.27</td>\n",
       "    </tr>\n",
       "    <tr>\n",
       "      <th>country_region_Northern Europe</th>\n",
       "      <td>0.38</td>\n",
       "      <td>1.47</td>\n",
       "      <td>0.27</td>\n",
       "      <td>-0.14</td>\n",
       "      <td>0.90</td>\n",
       "      <td>0.87</td>\n",
       "      <td>2.47</td>\n",
       "      <td>0.00</td>\n",
       "      <td>1.44</td>\n",
       "      <td>0.15</td>\n",
       "      <td>2.74</td>\n",
       "    </tr>\n",
       "    <tr>\n",
       "      <th>country_region_Polynesia</th>\n",
       "      <td>0.60</td>\n",
       "      <td>1.82</td>\n",
       "      <td>0.49</td>\n",
       "      <td>-0.35</td>\n",
       "      <td>1.55</td>\n",
       "      <td>0.70</td>\n",
       "      <td>4.72</td>\n",
       "      <td>0.00</td>\n",
       "      <td>1.23</td>\n",
       "      <td>0.22</td>\n",
       "      <td>2.20</td>\n",
       "    </tr>\n",
       "    <tr>\n",
       "      <th>country_region_South America</th>\n",
       "      <td>0.63</td>\n",
       "      <td>1.88</td>\n",
       "      <td>0.28</td>\n",
       "      <td>0.09</td>\n",
       "      <td>1.18</td>\n",
       "      <td>1.09</td>\n",
       "      <td>3.24</td>\n",
       "      <td>0.00</td>\n",
       "      <td>2.28</td>\n",
       "      <td>0.02</td>\n",
       "      <td>5.46</td>\n",
       "    </tr>\n",
       "    <tr>\n",
       "      <th>country_region_South-Eastern Asia</th>\n",
       "      <td>0.26</td>\n",
       "      <td>1.29</td>\n",
       "      <td>0.30</td>\n",
       "      <td>-0.32</td>\n",
       "      <td>0.84</td>\n",
       "      <td>0.72</td>\n",
       "      <td>2.31</td>\n",
       "      <td>0.00</td>\n",
       "      <td>0.87</td>\n",
       "      <td>0.38</td>\n",
       "      <td>1.38</td>\n",
       "    </tr>\n",
       "    <tr>\n",
       "      <th>country_region_Southern Africa</th>\n",
       "      <td>0.24</td>\n",
       "      <td>1.27</td>\n",
       "      <td>0.39</td>\n",
       "      <td>-0.53</td>\n",
       "      <td>1.00</td>\n",
       "      <td>0.59</td>\n",
       "      <td>2.72</td>\n",
       "      <td>0.00</td>\n",
       "      <td>0.61</td>\n",
       "      <td>0.54</td>\n",
       "      <td>0.88</td>\n",
       "    </tr>\n",
       "    <tr>\n",
       "      <th>country_region_Southern Asia</th>\n",
       "      <td>0.61</td>\n",
       "      <td>1.84</td>\n",
       "      <td>0.28</td>\n",
       "      <td>0.07</td>\n",
       "      <td>1.15</td>\n",
       "      <td>1.07</td>\n",
       "      <td>3.16</td>\n",
       "      <td>0.00</td>\n",
       "      <td>2.20</td>\n",
       "      <td>0.03</td>\n",
       "      <td>5.17</td>\n",
       "    </tr>\n",
       "    <tr>\n",
       "      <th>country_region_Southern Europe</th>\n",
       "      <td>0.55</td>\n",
       "      <td>1.74</td>\n",
       "      <td>0.26</td>\n",
       "      <td>0.04</td>\n",
       "      <td>1.07</td>\n",
       "      <td>1.04</td>\n",
       "      <td>2.92</td>\n",
       "      <td>0.00</td>\n",
       "      <td>2.11</td>\n",
       "      <td>0.04</td>\n",
       "      <td>4.83</td>\n",
       "    </tr>\n",
       "    <tr>\n",
       "      <th>country_region_Western Africa</th>\n",
       "      <td>0.28</td>\n",
       "      <td>1.32</td>\n",
       "      <td>0.28</td>\n",
       "      <td>-0.27</td>\n",
       "      <td>0.83</td>\n",
       "      <td>0.76</td>\n",
       "      <td>2.29</td>\n",
       "      <td>0.00</td>\n",
       "      <td>1.00</td>\n",
       "      <td>0.32</td>\n",
       "      <td>1.65</td>\n",
       "    </tr>\n",
       "    <tr>\n",
       "      <th>country_region_Western Asia</th>\n",
       "      <td>0.64</td>\n",
       "      <td>1.90</td>\n",
       "      <td>0.27</td>\n",
       "      <td>0.11</td>\n",
       "      <td>1.17</td>\n",
       "      <td>1.12</td>\n",
       "      <td>3.24</td>\n",
       "      <td>0.00</td>\n",
       "      <td>2.37</td>\n",
       "      <td>0.02</td>\n",
       "      <td>5.82</td>\n",
       "    </tr>\n",
       "    <tr>\n",
       "      <th>country_region_Western Europe</th>\n",
       "      <td>0.43</td>\n",
       "      <td>1.54</td>\n",
       "      <td>0.26</td>\n",
       "      <td>-0.08</td>\n",
       "      <td>0.94</td>\n",
       "      <td>0.92</td>\n",
       "      <td>2.56</td>\n",
       "      <td>0.00</td>\n",
       "      <td>1.65</td>\n",
       "      <td>0.10</td>\n",
       "      <td>3.32</td>\n",
       "    </tr>\n",
       "    <tr>\n",
       "      <th>regime_type_Military Dict</th>\n",
       "      <td>0.17</td>\n",
       "      <td>1.18</td>\n",
       "      <td>0.11</td>\n",
       "      <td>-0.05</td>\n",
       "      <td>0.39</td>\n",
       "      <td>0.95</td>\n",
       "      <td>1.47</td>\n",
       "      <td>0.00</td>\n",
       "      <td>1.52</td>\n",
       "      <td>0.13</td>\n",
       "      <td>2.97</td>\n",
       "    </tr>\n",
       "    <tr>\n",
       "      <th>regime_type_Mixed Dem</th>\n",
       "      <td>1.06</td>\n",
       "      <td>2.88</td>\n",
       "      <td>0.12</td>\n",
       "      <td>0.83</td>\n",
       "      <td>1.29</td>\n",
       "      <td>2.28</td>\n",
       "      <td>3.64</td>\n",
       "      <td>0.00</td>\n",
       "      <td>8.90</td>\n",
       "      <td>&lt;0.005</td>\n",
       "      <td>60.65</td>\n",
       "    </tr>\n",
       "    <tr>\n",
       "      <th>regime_type_Monarchy</th>\n",
       "      <td>-0.91</td>\n",
       "      <td>0.40</td>\n",
       "      <td>0.21</td>\n",
       "      <td>-1.32</td>\n",
       "      <td>-0.51</td>\n",
       "      <td>0.27</td>\n",
       "      <td>0.60</td>\n",
       "      <td>0.00</td>\n",
       "      <td>-4.44</td>\n",
       "      <td>&lt;0.005</td>\n",
       "      <td>16.79</td>\n",
       "    </tr>\n",
       "    <tr>\n",
       "      <th>regime_type_Parliamentary Dem</th>\n",
       "      <td>0.77</td>\n",
       "      <td>2.15</td>\n",
       "      <td>0.11</td>\n",
       "      <td>0.56</td>\n",
       "      <td>0.98</td>\n",
       "      <td>1.75</td>\n",
       "      <td>2.65</td>\n",
       "      <td>0.00</td>\n",
       "      <td>7.21</td>\n",
       "      <td>&lt;0.005</td>\n",
       "      <td>40.68</td>\n",
       "    </tr>\n",
       "    <tr>\n",
       "      <th>regime_type_Presidential Dem</th>\n",
       "      <td>0.68</td>\n",
       "      <td>1.97</td>\n",
       "      <td>0.13</td>\n",
       "      <td>0.43</td>\n",
       "      <td>0.93</td>\n",
       "      <td>1.54</td>\n",
       "      <td>2.53</td>\n",
       "      <td>0.00</td>\n",
       "      <td>5.40</td>\n",
       "      <td>&lt;0.005</td>\n",
       "      <td>23.81</td>\n",
       "    </tr>\n",
       "  </tbody>\n",
       "</table><br><div>\n",
       "<style scoped>\n",
       "    .dataframe tbody tr th:only-of-type {\n",
       "        vertical-align: middle;\n",
       "    }\n",
       "\n",
       "    .dataframe tbody tr th {\n",
       "        vertical-align: top;\n",
       "    }\n",
       "\n",
       "    .dataframe thead th {\n",
       "        text-align: right;\n",
       "    }\n",
       "</style>\n",
       "<table border=\"1\" class=\"dataframe\">\n",
       "  <tbody>\n",
       "    <tr>\n",
       "      <th>Concordance</th>\n",
       "      <td>0.63</td>\n",
       "    </tr>\n",
       "    <tr>\n",
       "      <th>Partial AIC</th>\n",
       "      <td>15024.60</td>\n",
       "    </tr>\n",
       "    <tr>\n",
       "      <th>log-likelihood ratio test</th>\n",
       "      <td>268.69 on 26 df</td>\n",
       "    </tr>\n",
       "    <tr>\n",
       "      <th>-log2(p) of ll-ratio test</th>\n",
       "      <td>137.68</td>\n",
       "    </tr>\n",
       "  </tbody>\n",
       "</table>\n",
       "</div>"
      ],
      "text/latex": [
       "\\begin{tabular}{lrrrrrrrrrrr}\n",
       "\\toprule\n",
       "{} &  coef &  exp(coef) &  se(coef) &  coef lower 95\\% &  coef upper 95\\% &  exp(coef) lower 95\\% &  exp(coef) upper 95\\% &  cmp to &     z &    p &  -log2(p) \\\\\n",
       "covariate                         &       &            &           &                 &                 &                      &                      &         &       &      &           \\\\\n",
       "\\midrule\n",
       "country\\_region\\_Caribbean          & -0.14 &       0.87 &      0.28 &           -0.69 &            0.41 &                 0.50 &                 1.51 &    0.00 & -0.50 & 0.62 &      0.70 \\\\\n",
       "country\\_region\\_Central America    &  0.48 &       1.62 &      0.28 &           -0.07 &            1.04 &                 0.93 &                 2.83 &    0.00 &  1.70 & 0.09 &      3.48 \\\\\n",
       "country\\_region\\_Central Asia       & -0.41 &       0.66 &      0.56 &           -1.52 &            0.70 &                 0.22 &                 2.01 &    0.00 & -0.72 & 0.47 &      1.09 \\\\\n",
       "country\\_region\\_Eastern Africa     &  0.05 &       1.05 &      0.29 &           -0.51 &            0.62 &                 0.60 &                 1.85 &    0.00 &  0.18 & 0.86 &      0.22 \\\\\n",
       "country\\_region\\_Eastern Asia       &  0.35 &       1.42 &      0.30 &           -0.23 &            0.93 &                 0.80 &                 2.54 &    0.00 &  1.20 & 0.23 &      2.11 \\\\\n",
       "country\\_region\\_Eastern Europe     &  0.45 &       1.57 &      0.28 &           -0.10 &            1.00 &                 0.91 &                 2.71 &    0.00 &  1.61 & 0.11 &      3.21 \\\\\n",
       "country\\_region\\_Melanesia          &  0.48 &       1.62 &      0.31 &           -0.12 &            1.09 &                 0.89 &                 2.97 &    0.00 &  1.56 & 0.12 &      3.09 \\\\\n",
       "country\\_region\\_Micronesia         &  0.14 &       1.15 &      0.32 &           -0.50 &            0.78 &                 0.61 &                 2.18 &    0.00 &  0.43 & 0.66 &      0.59 \\\\\n",
       "country\\_region\\_Middle Africa      &  0.19 &       1.21 &      0.31 &           -0.42 &            0.81 &                 0.66 &                 2.24 &    0.00 &  0.61 & 0.54 &      0.89 \\\\\n",
       "country\\_region\\_Northern Africa    & -0.28 &       0.75 &      0.35 &           -0.97 &            0.41 &                 0.38 &                 1.50 &    0.00 & -0.81 & 0.42 &      1.25 \\\\\n",
       "country\\_region\\_Northern America   & -0.08 &       0.92 &      0.37 &           -0.79 &            0.64 &                 0.45 &                 1.89 &    0.00 & -0.21 & 0.83 &      0.27 \\\\\n",
       "country\\_region\\_Northern Europe    &  0.38 &       1.47 &      0.27 &           -0.14 &            0.90 &                 0.87 &                 2.47 &    0.00 &  1.44 & 0.15 &      2.74 \\\\\n",
       "country\\_region\\_Polynesia          &  0.60 &       1.82 &      0.49 &           -0.35 &            1.55 &                 0.70 &                 4.72 &    0.00 &  1.23 & 0.22 &      2.20 \\\\\n",
       "country\\_region\\_South America      &  0.63 &       1.88 &      0.28 &            0.09 &            1.18 &                 1.09 &                 3.24 &    0.00 &  2.28 & 0.02 &      5.46 \\\\\n",
       "country\\_region\\_South-Eastern Asia &  0.26 &       1.29 &      0.30 &           -0.32 &            0.84 &                 0.72 &                 2.31 &    0.00 &  0.87 & 0.38 &      1.38 \\\\\n",
       "country\\_region\\_Southern Africa    &  0.24 &       1.27 &      0.39 &           -0.53 &            1.00 &                 0.59 &                 2.72 &    0.00 &  0.61 & 0.54 &      0.88 \\\\\n",
       "country\\_region\\_Southern Asia      &  0.61 &       1.84 &      0.28 &            0.07 &            1.15 &                 1.07 &                 3.16 &    0.00 &  2.20 & 0.03 &      5.17 \\\\\n",
       "country\\_region\\_Southern Europe    &  0.55 &       1.74 &      0.26 &            0.04 &            1.07 &                 1.04 &                 2.92 &    0.00 &  2.11 & 0.04 &      4.83 \\\\\n",
       "country\\_region\\_Western Africa     &  0.28 &       1.32 &      0.28 &           -0.27 &            0.83 &                 0.76 &                 2.29 &    0.00 &  1.00 & 0.32 &      1.65 \\\\\n",
       "country\\_region\\_Western Asia       &  0.64 &       1.90 &      0.27 &            0.11 &            1.17 &                 1.12 &                 3.24 &    0.00 &  2.37 & 0.02 &      5.82 \\\\\n",
       "country\\_region\\_Western Europe     &  0.43 &       1.54 &      0.26 &           -0.08 &            0.94 &                 0.92 &                 2.56 &    0.00 &  1.65 & 0.10 &      3.32 \\\\\n",
       "regime\\_type\\_Military Dict         &  0.17 &       1.18 &      0.11 &           -0.05 &            0.39 &                 0.95 &                 1.47 &    0.00 &  1.52 & 0.13 &      2.97 \\\\\n",
       "regime\\_type\\_Mixed Dem             &  1.06 &       2.88 &      0.12 &            0.83 &            1.29 &                 2.28 &                 3.64 &    0.00 &  8.90 & 0.00 &     60.65 \\\\\n",
       "regime\\_type\\_Monarchy              & -0.91 &       0.40 &      0.21 &           -1.32 &           -0.51 &                 0.27 &                 0.60 &    0.00 & -4.44 & 0.00 &     16.79 \\\\\n",
       "regime\\_type\\_Parliamentary Dem     &  0.77 &       2.15 &      0.11 &            0.56 &            0.98 &                 1.75 &                 2.65 &    0.00 &  7.21 & 0.00 &     40.68 \\\\\n",
       "regime\\_type\\_Presidential Dem      &  0.68 &       1.97 &      0.13 &            0.43 &            0.93 &                 1.54 &                 2.53 &    0.00 &  5.40 & 0.00 &     23.81 \\\\\n",
       "\\bottomrule\n",
       "\\end{tabular}\n"
      ],
      "text/plain": [
       "<lifelines.CoxPHFitter: fitted with 1355 total observations, 137 right-censored observations>\n",
       "             duration col = 'gov_duration'\n",
       "                event col = 'gov_observed_death'\n",
       "      baseline estimation = breslow\n",
       "   number of observations = 1355\n",
       "number of events observed = 1218\n",
       "   partial log-likelihood = -7486.30\n",
       "         time fit was run = 2022-05-21 00:19:45 UTC\n",
       "\n",
       "---\n",
       "                                    coef  exp(coef)   se(coef)   coef lower 95%   coef upper 95%  exp(coef) lower 95%  exp(coef) upper 95%\n",
       "covariate                                                                                                                                 \n",
       "country_region_Caribbean           -0.14       0.87       0.28            -0.69             0.41                 0.50                 1.51\n",
       "country_region_Central America      0.48       1.62       0.28            -0.07             1.04                 0.93                 2.83\n",
       "country_region_Central Asia        -0.41       0.66       0.56            -1.52             0.70                 0.22                 2.01\n",
       "country_region_Eastern Africa       0.05       1.05       0.29            -0.51             0.62                 0.60                 1.85\n",
       "country_region_Eastern Asia         0.35       1.42       0.30            -0.23             0.93                 0.80                 2.54\n",
       "country_region_Eastern Europe       0.45       1.57       0.28            -0.10             1.00                 0.91                 2.71\n",
       "country_region_Melanesia            0.48       1.62       0.31            -0.12             1.09                 0.89                 2.97\n",
       "country_region_Micronesia           0.14       1.15       0.32            -0.50             0.78                 0.61                 2.18\n",
       "country_region_Middle Africa        0.19       1.21       0.31            -0.42             0.81                 0.66                 2.24\n",
       "country_region_Northern Africa     -0.28       0.75       0.35            -0.97             0.41                 0.38                 1.50\n",
       "country_region_Northern America    -0.08       0.92       0.37            -0.79             0.64                 0.45                 1.89\n",
       "country_region_Northern Europe      0.38       1.47       0.27            -0.14             0.90                 0.87                 2.47\n",
       "country_region_Polynesia            0.60       1.82       0.49            -0.35             1.55                 0.70                 4.72\n",
       "country_region_South America        0.63       1.88       0.28             0.09             1.18                 1.09                 3.24\n",
       "country_region_South-Eastern Asia   0.26       1.29       0.30            -0.32             0.84                 0.72                 2.31\n",
       "country_region_Southern Africa      0.24       1.27       0.39            -0.53             1.00                 0.59                 2.72\n",
       "country_region_Southern Asia        0.61       1.84       0.28             0.07             1.15                 1.07                 3.16\n",
       "country_region_Southern Europe      0.55       1.74       0.26             0.04             1.07                 1.04                 2.92\n",
       "country_region_Western Africa       0.28       1.32       0.28            -0.27             0.83                 0.76                 2.29\n",
       "country_region_Western Asia         0.64       1.90       0.27             0.11             1.17                 1.12                 3.24\n",
       "country_region_Western Europe       0.43       1.54       0.26            -0.08             0.94                 0.92                 2.56\n",
       "regime_type_Military Dict           0.17       1.18       0.11            -0.05             0.39                 0.95                 1.47\n",
       "regime_type_Mixed Dem               1.06       2.88       0.12             0.83             1.29                 2.28                 3.64\n",
       "regime_type_Monarchy               -0.91       0.40       0.21            -1.32            -0.51                 0.27                 0.60\n",
       "regime_type_Parliamentary Dem       0.77       2.15       0.11             0.56             0.98                 1.75                 2.65\n",
       "regime_type_Presidential Dem        0.68       1.97       0.13             0.43             0.93                 1.54                 2.53\n",
       "\n",
       "                                    cmp to     z      p   -log2(p)\n",
       "covariate                                                         \n",
       "country_region_Caribbean              0.00 -0.50   0.62       0.70\n",
       "country_region_Central America        0.00  1.70   0.09       3.48\n",
       "country_region_Central Asia           0.00 -0.72   0.47       1.09\n",
       "country_region_Eastern Africa         0.00  0.18   0.86       0.22\n",
       "country_region_Eastern Asia           0.00  1.20   0.23       2.11\n",
       "country_region_Eastern Europe         0.00  1.61   0.11       3.21\n",
       "country_region_Melanesia              0.00  1.56   0.12       3.09\n",
       "country_region_Micronesia             0.00  0.43   0.66       0.59\n",
       "country_region_Middle Africa          0.00  0.61   0.54       0.89\n",
       "country_region_Northern Africa        0.00 -0.81   0.42       1.25\n",
       "country_region_Northern America       0.00 -0.21   0.83       0.27\n",
       "country_region_Northern Europe        0.00  1.44   0.15       2.74\n",
       "country_region_Polynesia              0.00  1.23   0.22       2.20\n",
       "country_region_South America          0.00  2.28   0.02       5.46\n",
       "country_region_South-Eastern Asia     0.00  0.87   0.38       1.38\n",
       "country_region_Southern Africa        0.00  0.61   0.54       0.88\n",
       "country_region_Southern Asia          0.00  2.20   0.03       5.17\n",
       "country_region_Southern Europe        0.00  2.11   0.04       4.83\n",
       "country_region_Western Africa         0.00  1.00   0.32       1.65\n",
       "country_region_Western Asia           0.00  2.37   0.02       5.82\n",
       "country_region_Western Europe         0.00  1.65   0.10       3.32\n",
       "regime_type_Military Dict             0.00  1.52   0.13       2.97\n",
       "regime_type_Mixed Dem                 0.00  8.90 <0.005      60.65\n",
       "regime_type_Monarchy                  0.00 -4.44 <0.005      16.79\n",
       "regime_type_Parliamentary Dem         0.00  7.21 <0.005      40.68\n",
       "regime_type_Presidential Dem          0.00  5.40 <0.005      23.81\n",
       "---\n",
       "Concordance = 0.63\n",
       "Partial AIC = 15024.60\n",
       "log-likelihood ratio test = 268.69 on 26 df\n",
       "-log2(p) of ll-ratio test = 137.68"
      ]
     },
     "metadata": {},
     "output_type": "display_data"
    }
   ],
   "source": [
    "cph.print_summary()"
   ]
  },
  {
   "cell_type": "markdown",
   "metadata": {},
   "source": [
    "# Salvando arquivo"
   ]
  },
  {
   "cell_type": "code",
   "execution_count": 10,
   "metadata": {},
   "outputs": [],
   "source": [
    "regime_df.to_csv(\"../data/preprocessed/regime_data.csv\", index=False)"
   ]
  }
 ],
 "metadata": {
  "interpreter": {
   "hash": "7cab889f0c0a1737ac74fd2471376c3cbd41b9e7dddec40e711252c25431dcf9"
  },
  "kernelspec": {
   "display_name": "Python 3.8.10 ('.venv': poetry)",
   "language": "python",
   "name": "python3"
  },
  "language_info": {
   "codemirror_mode": {
    "name": "ipython",
    "version": 3
   },
   "file_extension": ".py",
   "mimetype": "text/x-python",
   "name": "python",
   "nbconvert_exporter": "python",
   "pygments_lexer": "ipython3",
   "version": "3.8.10"
  },
  "orig_nbformat": 4
 },
 "nbformat": 4,
 "nbformat_minor": 2
}
