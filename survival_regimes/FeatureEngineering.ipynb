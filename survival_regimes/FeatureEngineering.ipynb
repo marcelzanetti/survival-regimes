{
 "cells": [
  {
   "cell_type": "code",
   "execution_count": 23,
   "metadata": {},
   "outputs": [],
   "source": [
    "import pandas as pd\n",
    "import numpy as np"
   ]
  },
  {
   "cell_type": "markdown",
   "metadata": {},
   "source": [
    "# Pré-processando dados"
   ]
  },
  {
   "cell_type": "markdown",
   "metadata": {},
   "source": [
    "## Lendo arquivos"
   ]
  },
  {
   "cell_type": "code",
   "execution_count": 24,
   "metadata": {},
   "outputs": [],
   "source": [
    "regime_df = pd.read_csv(\"../data/preprocessed/regime_data.csv\")\n",
    "crisis_df = pd.read_csv(\"../data/preprocessed/crisis_data.csv\")"
   ]
  },
  {
   "cell_type": "code",
   "execution_count": 25,
   "metadata": {},
   "outputs": [],
   "source": [
    "regime_df[\"country_name\"] = regime_df[\"country_name\"].str.upper()"
   ]
  },
  {
   "cell_type": "markdown",
   "metadata": {},
   "source": [
    "## Gerando visão agregada em `crisis_df`\n",
    "\n",
    "Para cada intervalo de tempo (`gov_start`, `gov_end`), geraremos as seguintes visões agregadas relativas ao banco de crises:\n",
    "\n",
    "1. Para variáveis indicadoras: 'crisis_banking', 'crisis_systemic', 'default_domestic_debt', 'default_sovereign_debt_tp2', 'crisis_currency', 'crisis_currency'\n",
    "    * **Soma** das variáveis\n",
    "    * **Média ponderada**, onde o peso para o i-ésimo ano é $w_i=\\frac{i}{\\sum i}$\n",
    "2. Para `ref_inflation`, o valor do último ano"
   ]
  },
  {
   "cell_type": "markdown",
   "metadata": {},
   "source": [
    "### Encontrando os intervalos de tempo no banco de regimes:"
   ]
  },
  {
   "cell_type": "code",
   "execution_count": 26,
   "metadata": {},
   "outputs": [
    {
     "name": "stderr",
     "output_type": "stream",
     "text": [
      "/tmp/ipykernel_19424/1930312625.py:2: SettingWithCopyWarning: \n",
      "A value is trying to be set on a copy of a slice from a DataFrame.\n",
      "Try using .loc[row_indexer,col_indexer] = value instead\n",
      "\n",
      "See the caveats in the documentation: https://pandas.pydata.org/pandas-docs/stable/user_guide/indexing.html#returning-a-view-versus-a-copy\n",
      "  intervals_df[\"gov_end\"] = intervals_df[\"gov_start\"] + intervals_df[\"gov_duration\"]\n"
     ]
    }
   ],
   "source": [
    "intervals_df = regime_df[[\"gov_start\", \"gov_duration\", \"country_name\", \"gov_id\"]]\n",
    "intervals_df[\"gov_end\"] = intervals_df[\"gov_start\"] + intervals_df[\"gov_duration\"]"
   ]
  },
  {
   "cell_type": "code",
   "execution_count": 27,
   "metadata": {},
   "outputs": [],
   "source": [
    "gov_id_per_row = []\n",
    "\n",
    "for index, value in crisis_df.iterrows():\n",
    "\n",
    "    df_ = intervals_df[intervals_df[\"country_name\"] == value[\"country_name\"]]\n",
    "    start_interval = df_[df_[\"gov_start\"] <= value[\"ref_year\"]][\"gov_start\"].max()\n",
    "\n",
    "    gov_id_per_row.append(\n",
    "        df_[df_[\"gov_start\"] == start_interval][\"gov_id\"].values\n",
    "    )"
   ]
  },
  {
   "cell_type": "code",
   "execution_count": 28,
   "metadata": {},
   "outputs": [
    {
     "name": "stderr",
     "output_type": "stream",
     "text": [
      "/tmp/ipykernel_19424/2060908396.py:1: DeprecationWarning: The truth value of an empty array is ambiguous. Returning False, but in future this will result in an error. Use `array.size > 0` to check that an array is not empty.\n",
      "  crisis_df[\"gov_id\"] = [x[0] if x else np.nan for x in gov_id_per_row]\n"
     ]
    }
   ],
   "source": [
    "crisis_df[\"gov_id\"] = [x[0] if x else np.nan for x in gov_id_per_row]"
   ]
  },
  {
   "cell_type": "markdown",
   "metadata": {},
   "source": [
    "Mantendo apenas países que estejam no dataset de crises"
   ]
  },
  {
   "cell_type": "code",
   "execution_count": 29,
   "metadata": {},
   "outputs": [],
   "source": [
    "crisis_df = crisis_df.dropna(subset=\"gov_id\")"
   ]
  },
  {
   "cell_type": "markdown",
   "metadata": {},
   "source": [
    "### Gerando as variáveis agregadas"
   ]
  },
  {
   "cell_type": "code",
   "execution_count": 30,
   "metadata": {},
   "outputs": [],
   "source": [
    "indicating_cols = ['crisis_banking', 'crisis_systemic', 'default_domestic_debt', 'default_sovereign_debt_tp2', 'crisis_currency', 'crisis_currency']"
   ]
  },
  {
   "cell_type": "code",
   "execution_count": 31,
   "metadata": {},
   "outputs": [],
   "source": [
    "crisis_df[\"pos_order\"] = (\n",
    "    crisis_df\n",
    "    .groupby(\"gov_id\")[\"ref_year\"]\n",
    "    .rank(method=\"min\")\n",
    ")"
   ]
  },
  {
   "cell_type": "code",
   "execution_count": 32,
   "metadata": {},
   "outputs": [],
   "source": [
    "aggr_ponderado = (\n",
    "    crisis_df\n",
    "    .groupby(\"gov_id\")\n",
    "    .agg({\"pos_order\" : \"sum\"})\n",
    "    .rename({\"pos_order\" : \"sum_pos_order\"}, axis=1)\n",
    "    .merge(crisis_df, left_index=True, right_on=\"gov_id\")\n",
    ")\n",
    "\n",
    "for col in indicating_cols:\n",
    "    aggr_ponderado[col] = (aggr_ponderado[col] * aggr_ponderado[\"pos_order\"]) / aggr_ponderado[\"sum_pos_order\"]\n",
    "\n",
    "aggr_ponderado = (\n",
    "    aggr_ponderado    \n",
    "    .groupby(\"gov_id\")\n",
    "    .agg({col : \"sum\" for col in indicating_cols})\n",
    "    .rename({ col : f\"pond_{col}\" for col in indicating_cols}, axis=1)\n",
    ")"
   ]
  },
  {
   "cell_type": "code",
   "execution_count": 33,
   "metadata": {},
   "outputs": [],
   "source": [
    "aggr_df = crisis_df.groupby(\"gov_id\")"
   ]
  },
  {
   "cell_type": "code",
   "execution_count": 34,
   "metadata": {},
   "outputs": [],
   "source": [
    "crisis_aggr = (\n",
    "    aggr_df\n",
    "    .agg({ col : \"sum\" for col in indicating_cols})\n",
    "    .merge(\n",
    "        aggr_df.nth(-1)[[\"ref_inflation\"]], \n",
    "        left_index=True, right_index=True\n",
    "    )\n",
    "    .rename({\"ref_inflation\" : \"last_ref_inflation\"}, axis=1)\n",
    "    .rename({ col : f\"sum_{col}\" for col in indicating_cols}, axis=1)\n",
    "    .merge(aggr_ponderado, left_index=True, right_index=True)\n",
    ")"
   ]
  },
  {
   "cell_type": "markdown",
   "metadata": {},
   "source": [
    "### Juntando com dados de regime"
   ]
  },
  {
   "cell_type": "code",
   "execution_count": null,
   "metadata": {},
   "outputs": [],
   "source": [
    "joined_df = regime_df.merge(crisis_aggr, left_on=\"gov_id\", right_index=True)"
   ]
  },
  {
   "cell_type": "code",
   "execution_count": null,
   "metadata": {},
   "outputs": [],
   "source": [
    "joined_df = joined_df[joined_df[\"gov_id\"] != \"MILITARY\"]"
   ]
  },
  {
   "cell_type": "code",
   "execution_count": null,
   "metadata": {},
   "outputs": [],
   "source": [
    "joined_df = joined_df.set_index(\"gov_id\")"
   ]
  },
  {
   "cell_type": "code",
   "execution_count": null,
   "metadata": {},
   "outputs": [],
   "source": [
    "#joined_df[\"gov_observed_death\"] = [1 if x else 0 for x in joined_df[\"gov_observed_death\"]]"
   ]
  },
  {
   "cell_type": "code",
   "execution_count": null,
   "metadata": {},
   "outputs": [],
   "source": [
    "joined_df.to_csv(\"../data/intermediate/aggregated.csv\")"
   ]
  }
 ],
 "metadata": {
  "interpreter": {
   "hash": "7cab889f0c0a1737ac74fd2471376c3cbd41b9e7dddec40e711252c25431dcf9"
  },
  "kernelspec": {
   "display_name": "Python 3.8.10 ('.venv': poetry)",
   "language": "python",
   "name": "python3"
  },
  "language_info": {
   "codemirror_mode": {
    "name": "ipython",
    "version": 3
   },
   "file_extension": ".py",
   "mimetype": "text/x-python",
   "name": "python",
   "nbconvert_exporter": "python",
   "pygments_lexer": "ipython3",
   "version": "3.8.10"
  },
  "orig_nbformat": 4
 },
 "nbformat": 4,
 "nbformat_minor": 2
}
