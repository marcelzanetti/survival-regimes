{
 "cells": [
  {
   "cell_type": "code",
   "execution_count": 1,
   "metadata": {},
   "outputs": [],
   "source": [
    "import pandas as pd"
   ]
  },
  {
   "cell_type": "markdown",
   "metadata": {},
   "source": [
    "# Tratamento da base"
   ]
  },
  {
   "cell_type": "code",
   "execution_count": 3,
   "metadata": {},
   "outputs": [],
   "source": [
    "crise_df = pd.read_excel(\"../data/global_crisis_data.xlsx\")"
   ]
  },
  {
   "cell_type": "code",
   "execution_count": 4,
   "metadata": {},
   "outputs": [],
   "source": [
    "cols_to_drop = [\n",
    "    \"Case\", \"CC3\",  'exch_usd', 'exch_usd_alt1', 'exch_usd_alt2', 'exch_usd_alt3', 'conversion_notes',\n",
    "    'national currency', \"exch_primary source code\", \"exch_sources\", 'GDP_Weighted_default', '<',\n",
    "    'Independence', 'Gold Standard'\n",
    "]\n",
    "\n",
    "cols_to_rename = {\n",
    "    \"Country\" : \"country_name\",\n",
    "    \"Year\" : \"ref_year\",\n",
    "    'Banking Crisis ' : \"crisis_banking\",\n",
    "    'Banking_Crisis_Notes' : \"notes_crisis_banking\", \n",
    "    'Systemic Crisis' : \"crisis_systemic\",\n",
    "    'Domestic_Debt_In_Default' : \"default_domestic_debt\", \n",
    "    'Domestic_Debt_ Notes/Sources' : \"notes_default_domestic_debt\",\n",
    "    'SOVEREIGN EXTERNAL DEBT 1: DEFAULT and RESTRUCTURINGS, 1800-2012--Does not include defaults on WWI debt to United States and United Kingdom and post-1975 defaults on Official External Creditors' : \"default_sovereign_debt_tp1\",\n",
    "    'SOVEREIGN EXTERNAL DEBT 2: DEFAULT and RESTRUCTURINGS, 1800-2012--Does not include defaults on WWI debt to United States and United Kingdom but includes post-1975 defaults on Official External Creditors' : \"default_sovereign_debt_tp2\",\n",
    "    'Defaults_External_Notes' : \"notes_default_sovereign_debt\", \n",
    "    'Inflation, Annual percentages of average consumer prices' : \"ref_inflation\",\n",
    "    'Currency Crises' : \"crisis_currency\",\n",
    "    'Inflation Crises' : \"crisis_inflation\"\n",
    "}\n",
    "\n",
    "cols_new_types = {x : bool for x in cols_to_rename.values() if x.startswith((\"crisis\", \"default\"))}\n",
    "cols_new_types[\"ref_year\"] = int\n",
    "\n",
    "crise_df = (\n",
    "    crise_df[1:]\n",
    "    .drop(cols_to_drop, axis=1)\n",
    "    .rename(cols_to_rename, axis=1)\n",
    "    .astype(cols_new_types)\n",
    ")"
   ]
  },
  {
   "cell_type": "markdown",
   "metadata": {},
   "source": [
    "Mantendo apenas valores presentes antes"
   ]
  },
  {
   "cell_type": "code",
   "execution_count": 5,
   "metadata": {},
   "outputs": [],
   "source": [
    "crise_df = crise_df[crise_df[\"ref_year\"].between(1946, 2009)]"
   ]
  },
  {
   "cell_type": "code",
   "execution_count": 6,
   "metadata": {},
   "outputs": [
    {
     "data": {
      "text/html": [
       "<div>\n",
       "<style scoped>\n",
       "    .dataframe tbody tr th:only-of-type {\n",
       "        vertical-align: middle;\n",
       "    }\n",
       "\n",
       "    .dataframe tbody tr th {\n",
       "        vertical-align: top;\n",
       "    }\n",
       "\n",
       "    .dataframe thead th {\n",
       "        text-align: right;\n",
       "    }\n",
       "</style>\n",
       "<table border=\"1\" class=\"dataframe\">\n",
       "  <thead>\n",
       "    <tr style=\"text-align: right;\">\n",
       "      <th></th>\n",
       "      <th>country_name</th>\n",
       "      <th>ref_year</th>\n",
       "      <th>crisis_banking</th>\n",
       "      <th>notes_crisis_banking</th>\n",
       "      <th>crisis_systemic</th>\n",
       "      <th>default_domestic_debt</th>\n",
       "      <th>notes_default_domestic_debt</th>\n",
       "      <th>default_sovereign_debt_tp1</th>\n",
       "      <th>default_sovereign_debt_tp2</th>\n",
       "      <th>notes_default_sovereign_debt</th>\n",
       "      <th>ref_inflation</th>\n",
       "      <th>crisis_currency</th>\n",
       "      <th>crisis_inflation</th>\n",
       "    </tr>\n",
       "  </thead>\n",
       "  <tbody>\n",
       "    <tr>\n",
       "      <th>147</th>\n",
       "      <td>Algeria</td>\n",
       "      <td>1946</td>\n",
       "      <td>False</td>\n",
       "      <td>NaN</td>\n",
       "      <td>False</td>\n",
       "      <td>False</td>\n",
       "      <td>NaN</td>\n",
       "      <td>False</td>\n",
       "      <td>False</td>\n",
       "      <td>NaN</td>\n",
       "      <td>18.181818</td>\n",
       "      <td>False</td>\n",
       "      <td>False</td>\n",
       "    </tr>\n",
       "    <tr>\n",
       "      <th>148</th>\n",
       "      <td>Algeria</td>\n",
       "      <td>1947</td>\n",
       "      <td>False</td>\n",
       "      <td>NaN</td>\n",
       "      <td>False</td>\n",
       "      <td>False</td>\n",
       "      <td>NaN</td>\n",
       "      <td>False</td>\n",
       "      <td>False</td>\n",
       "      <td>NaN</td>\n",
       "      <td>69.230769</td>\n",
       "      <td>False</td>\n",
       "      <td>True</td>\n",
       "    </tr>\n",
       "    <tr>\n",
       "      <th>149</th>\n",
       "      <td>Algeria</td>\n",
       "      <td>1948</td>\n",
       "      <td>False</td>\n",
       "      <td>NaN</td>\n",
       "      <td>False</td>\n",
       "      <td>False</td>\n",
       "      <td>NaN</td>\n",
       "      <td>False</td>\n",
       "      <td>False</td>\n",
       "      <td>NaN</td>\n",
       "      <td>63.636364</td>\n",
       "      <td>False</td>\n",
       "      <td>True</td>\n",
       "    </tr>\n",
       "  </tbody>\n",
       "</table>\n",
       "</div>"
      ],
      "text/plain": [
       "    country_name  ref_year  crisis_banking notes_crisis_banking  \\\n",
       "147      Algeria      1946           False                  NaN   \n",
       "148      Algeria      1947           False                  NaN   \n",
       "149      Algeria      1948           False                  NaN   \n",
       "\n",
       "     crisis_systemic  default_domestic_debt notes_default_domestic_debt  \\\n",
       "147            False                  False                         NaN   \n",
       "148            False                  False                         NaN   \n",
       "149            False                  False                         NaN   \n",
       "\n",
       "     default_sovereign_debt_tp1  default_sovereign_debt_tp2  \\\n",
       "147                       False                       False   \n",
       "148                       False                       False   \n",
       "149                       False                       False   \n",
       "\n",
       "    notes_default_sovereign_debt ref_inflation  crisis_currency  \\\n",
       "147                          NaN     18.181818            False   \n",
       "148                          NaN     69.230769            False   \n",
       "149                          NaN     63.636364            False   \n",
       "\n",
       "     crisis_inflation  \n",
       "147             False  \n",
       "148              True  \n",
       "149              True  "
      ]
     },
     "execution_count": 6,
     "metadata": {},
     "output_type": "execute_result"
    }
   ],
   "source": [
    "crise_df.head(3)"
   ]
  },
  {
   "cell_type": "markdown",
   "metadata": {},
   "source": [
    "# Exploração da base"
   ]
  },
  {
   "cell_type": "markdown",
   "metadata": {},
   "source": [
    "## AutoEDA"
   ]
  },
  {
   "cell_type": "code",
   "execution_count": 50,
   "metadata": {},
   "outputs": [
    {
     "name": "stderr",
     "output_type": "stream",
     "text": [
      "Summarize dataset: 100%|██████████| 35/35 [00:22<00:00,  1.54it/s, Completed]                                     \n",
      "Generate report structure: 100%|██████████| 1/1 [00:09<00:00,  9.46s/it]\n",
      "Render HTML: 100%|██████████| 1/1 [00:01<00:00,  1.34s/it]\n",
      "Export report to file: 100%|██████████| 1/1 [00:00<00:00, 114.95it/s]\n"
     ]
    }
   ],
   "source": [
    "import pandas_profiling\n",
    "\n",
    "report = pandas_profiling.ProfileReport(crise_df)\n",
    "report.to_file(\"../reports/raw_crisis.html\")"
   ]
  },
  {
   "cell_type": "markdown",
   "metadata": {},
   "source": [
    "## Tratamentos específicos"
   ]
  },
  {
   "cell_type": "markdown",
   "metadata": {},
   "source": [
    "#### Tratando `ref_inflation`"
   ]
  },
  {
   "cell_type": "markdown",
   "metadata": {},
   "source": [
    "Transformaremos os `\"  \"` de `ref_inflation` em NAs para podermos converter para *float*."
   ]
  },
  {
   "cell_type": "code",
   "execution_count": 7,
   "metadata": {},
   "outputs": [],
   "source": [
    "import numpy as np"
   ]
  },
  {
   "cell_type": "code",
   "execution_count": 8,
   "metadata": {},
   "outputs": [],
   "source": [
    "crise_df[\"ref_inflation\"] = [np.nan if x in [\" \", \"  \"] else x for x in crise_df[\"ref_inflation\"]]"
   ]
  },
  {
   "cell_type": "code",
   "execution_count": 9,
   "metadata": {},
   "outputs": [],
   "source": [
    "crise_df[\"ref_inflation\"] = pd.to_numeric(crise_df[\"ref_inflation\"])"
   ]
  },
  {
   "cell_type": "markdown",
   "metadata": {},
   "source": [
    "#### Capitalizando variáveis"
   ]
  },
  {
   "cell_type": "code",
   "execution_count": 10,
   "metadata": {},
   "outputs": [],
   "source": [
    "for cols in crise_df.columns:\n",
    "    if crise_df.dtypes[cols] == 'O':\n",
    "        crise_df[cols] = crise_df[cols].str.upper()"
   ]
  },
  {
   "cell_type": "markdown",
   "metadata": {},
   "source": [
    "#### Variáveis explicativas"
   ]
  },
  {
   "cell_type": "code",
   "execution_count": 11,
   "metadata": {},
   "outputs": [
    {
     "data": {
      "text/plain": [
       "OIL AND INTEREST RATE SHOCKS                               106\n",
       "DEPRESSION AND WORLD WAR II                                 32\n",
       "DEPRESSION, WORLD WAR II. AND COMMUNIST TAKEOVER            22\n",
       "REPUDIATION FOLLOWING INDEPENDENCE                          16\n",
       "SHARP EXPORTS CONTRACTION. OIL AND INTEREST RATE SHOCKS     15\n",
       "DEPRESSION                                                  13\n",
       "SOVIET COLLAPSE, OIL AND INTEREST RATE SHACKS               12\n",
       "OIL AND INTEREST RATE SHOCKS. BUDGET CRISIS                 12\n",
       "OIL AND INTENST RATE SHOCKS                                 12\n",
       "CIVIL UNREST, THEN DEPRESSION                               10\n",
       "OIL AND INMEST RATE SHACKS                                  10\n",
       "OIL AND INTEREST RATE SHOCKS. NATURAL DISASTERS             10\n",
       "POST-PERON BUDGET CRISIS. BEET EXPORT DROPS                 10\n",
       "OIL AND INTEREST RATE SHOCKS; SOVIET COLLAPSE               10\n",
       "OIL AND INTEREST RATE SHOCKS AND BUDGET CRISIS              10\n",
       "INTEREST RATE SHOCKS                                         9\n",
       "INTEREST RATE SHOCKS AND CIVIL UNREST                        9\n",
       "SANCTIONS-INDUCED CAPITAL OUTFLOWS                           9\n",
       "INTEREST RATE SHOCKS AND BUDGET CRISIS                       8\n",
       "NAZI RROLICY AND WORLD WAR II                                8\n",
       "WORLD WAR II                                                 8\n",
       "DEPRESSION, GERMAN OCCUPATION, AND WORLD WAR LL              7\n",
       "DEPRESSION AND WORLD WAR U                                   7\n",
       "CIVIL UNREST. CONFLICT WITH CHILE. AND DEPRESSION            6\n",
       "SOVIET COLLAPSE, OIL AND INTEREST RATE SHOCKS                6\n",
       "BUDGET CRISIS                                                4\n",
       "CIVIL WAR, WORLD WAR II, AND COMMUNIST REPUDIATION           4\n",
       "BUDGET CRISIS AND COUP                                       4\n",
       "NITRATE MARKET COLLAPSE AND DEPRESSION                       2\n",
       "SOVIET COLLAPSE                                              2\n",
       "FISHMEAL PRICE DROP AND BUDGET CRISIS                        1\n",
       "COPPER PRICE DROP                                            1\n",
       "Name: notes_default_sovereign_debt, dtype: int64"
      ]
     },
     "execution_count": 11,
     "metadata": {},
     "output_type": "execute_result"
    }
   ],
   "source": [
    "crise_df[\"notes_default_sovereign_debt\"].value_counts()"
   ]
  },
  {
   "cell_type": "markdown",
   "metadata": {},
   "source": [
    "Das variáveis explicativas (`notes_[...]`), manteremos apenas a `notes_default_sovereign_debt`, que apresenta baixa cardinalidade e valores fáceis de agrupar (serão criados quatro grupos: `oil`, `war`, `rate` e `others`; pode-se ser atribuído a mais de um). "
   ]
  },
  {
   "cell_type": "code",
   "execution_count": 12,
   "metadata": {},
   "outputs": [],
   "source": [
    "notes_cols_to_expande = [\"OIL\", \"WAR\", \"RATE\"]\n",
    "\n",
    "for cols in notes_cols_to_expande:\n",
    "    crise_df[f\"notes_default_sovereign_debt_{cols}\"] = crise_df[\"notes_default_sovereign_debt\"].str.contains(cols)"
   ]
  },
  {
   "cell_type": "code",
   "execution_count": 13,
   "metadata": {},
   "outputs": [],
   "source": [
    "crise_df[\"notes_default_sovereign_debt_OTHERS\"] = (~crise_df[\"notes_default_sovereign_debt\"].isna()) & (~(crise_df[\"notes_default_sovereign_debt_OIL\"] | crise_df[\"notes_default_sovereign_debt_WAR\"] | crise_df[\"notes_default_sovereign_debt_RATE\"]))"
   ]
  },
  {
   "cell_type": "markdown",
   "metadata": {},
   "source": [
    "Manteremos `default_sovereign_debt_tp2` em detrimento da `default_sovereign_debt_tp1` (há mudança em apenas oito ocorrências, e a segunda é mais compreensiva)."
   ]
  },
  {
   "cell_type": "code",
   "execution_count": 14,
   "metadata": {},
   "outputs": [],
   "source": [
    "crise_df = (\n",
    "    crise_df\n",
    "    .drop([\"notes_default_domestic_debt\", \"notes_crisis_banking\", \"default_sovereign_debt_tp1\"], axis=1)\n",
    ")"
   ]
  },
  {
   "cell_type": "code",
   "execution_count": 15,
   "metadata": {},
   "outputs": [
    {
     "data": {
      "text/plain": [
       "country_name                              0\n",
       "ref_year                                  0\n",
       "crisis_banking                            0\n",
       "crisis_systemic                           0\n",
       "default_domestic_debt                     0\n",
       "default_sovereign_debt_tp2                0\n",
       "notes_default_sovereign_debt           4085\n",
       "ref_inflation                           205\n",
       "crisis_currency                           0\n",
       "crisis_inflation                          0\n",
       "notes_default_sovereign_debt_OIL       4085\n",
       "notes_default_sovereign_debt_WAR       4085\n",
       "notes_default_sovereign_debt_RATE      4085\n",
       "notes_default_sovereign_debt_OTHERS       0\n",
       "dtype: int64"
      ]
     },
     "execution_count": 15,
     "metadata": {},
     "output_type": "execute_result"
    }
   ],
   "source": [
    "crise_df.isnull().sum()"
   ]
  },
  {
   "cell_type": "code",
   "execution_count": 16,
   "metadata": {},
   "outputs": [
    {
     "data": {
      "text/plain": [
       "3632"
      ]
     },
     "execution_count": 16,
     "metadata": {},
     "output_type": "execute_result"
    }
   ],
   "source": [
    "(crise_df[\"default_sovereign_debt_tp2\"] == 0).sum()"
   ]
  },
  {
   "cell_type": "markdown",
   "metadata": {},
   "source": [
    "Devido à grande quantidade de valores nulos em `notes_default_sovereign_debt`, ela será removida"
   ]
  },
  {
   "cell_type": "code",
   "execution_count": 17,
   "metadata": {},
   "outputs": [],
   "source": [
    "crise_df = (\n",
    "    crise_df\n",
    "    .drop([x for x in crise_df.columns if x.startswith(\"notes\")], axis=1)\n",
    ")"
   ]
  },
  {
   "cell_type": "markdown",
   "metadata": {},
   "source": [
    "Os valores nulos em `ref_inflation` serão tratados em outro notebook"
   ]
  },
  {
   "cell_type": "markdown",
   "metadata": {},
   "source": [
    "# Salvando arquivo"
   ]
  },
  {
   "cell_type": "code",
   "execution_count": 18,
   "metadata": {},
   "outputs": [],
   "source": [
    "crise_df.to_csv(\"../data/preprocessed/crisis_data.csv\", index=False)"
   ]
  }
 ],
 "metadata": {
  "interpreter": {
   "hash": "7cab889f0c0a1737ac74fd2471376c3cbd41b9e7dddec40e711252c25431dcf9"
  },
  "kernelspec": {
   "display_name": "Python 3.8.10 ('.venv': poetry)",
   "language": "python",
   "name": "python3"
  },
  "language_info": {
   "codemirror_mode": {
    "name": "ipython",
    "version": 3
   },
   "file_extension": ".py",
   "mimetype": "text/x-python",
   "name": "python",
   "nbconvert_exporter": "python",
   "pygments_lexer": "ipython3",
   "version": "3.8.10"
  },
  "orig_nbformat": 4
 },
 "nbformat": 4,
 "nbformat_minor": 2
}
